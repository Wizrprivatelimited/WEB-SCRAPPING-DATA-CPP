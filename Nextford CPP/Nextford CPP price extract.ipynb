{
 "cells": [
  {
   "cell_type": "markdown",
   "id": "65492fb7",
   "metadata": {},
   "source": [
    "# Nextford CPP price extract\n"
   ]
  },
  {
   "cell_type": "code",
   "execution_count": null,
   "id": "7fde0d38",
   "metadata": {},
   "outputs": [],
   "source": [
    "import pandas as pd\n",
    "import requests\n",
    "from bs4 import BeautifulSoup\n",
    "\n",
    "# Load your Excel file\n",
    "input_file = \"C:\\\\Users\\\\taslim.siddiqui\\\\Downloads\\\\111111111.xlsx\"  # ✅ Change path as needed\n",
    "df = pd.read_excel(input_file)\n",
    "\n",
    "# Make sure 'Course_link' exists\n",
    "if 'Course Link' not in df.columns:\n",
    "    raise ValueError(\"Column 'Course_link' not found in Excel.\")\n",
    "\n",
    "# List to store extracted tuition prices\n",
    "tuition_prices = []\n",
    "\n",
    "# Headers for requests\n",
    "headers = {\n",
    "    \"User-Agent\": \"Mozilla/5.0\"\n",
    "}\n",
    "\n",
    "# Loop through each row and extract price\n",
    "for index, row in df.iterrows():\n",
    "    url = row['Course Link']\n",
    "    print(f\"🔍 Processing: {url}\")\n",
    "    try:\n",
    "        response = requests.get(url, headers=headers, timeout=10)\n",
    "        soup = BeautifulSoup(response.content, \"html.parser\")\n",
    "\n",
    "        tuition_section = soup.find(\"h3\", string=\"Monthly Tuition\")\n",
    "        if tuition_section:\n",
    "            parent_div = tuition_section.find_parent(\"div\", class_=\"num\")\n",
    "            box_div = parent_div.find_parent(\"div\", class_=\"box\")\n",
    "            price_div = box_div.find(\"div\", class_=\"text\")\n",
    "            price = price_div.text.strip() if price_div else \"❌ Price not found\"\n",
    "        else:\n",
    "            price = \"❌ 'Monthly Tuition' not found\"\n",
    "    except Exception as e:\n",
    "        price = f\"❌ Error: {str(e)}\"\n",
    "\n",
    "    tuition_prices.append(price)\n",
    "\n",
    "# Add new column to original DataFrame\n",
    "df['Monthly_Tuition'] = tuition_prices\n",
    "\n",
    "# Save result to Excel\n",
    "output_file = \"C:\\\\Users\\\\taslim.siddiqui\\\\Downloads\\\\nexford_courses_with_prices.xlsx\"\n",
    "df.to_excel(output_file, index=False)\n",
    "print(f\"\\n✅ All data (including 'cpp' column) saved to: {output_file}\")\n"
   ]
  }
 ],
 "metadata": {
  "kernelspec": {
   "display_name": "Python 3",
   "language": "python",
   "name": "python3"
  },
  "language_info": {
   "name": "python",
   "version": "3.11.9"
  }
 },
 "nbformat": 4,
 "nbformat_minor": 5
}
