{
 "cells": [
  {
   "cell_type": "markdown",
   "id": "aee08a5a",
   "metadata": {},
   "source": [
    "Experton CPP Extract Price"
   ]
  },
  {
   "cell_type": "code",
   "execution_count": null,
   "id": "818f3f4f",
   "metadata": {},
   "outputs": [],
   "source": [
    "import pandas as pd\n",
    "import time\n",
    "from selenium import webdriver\n",
    "from selenium.webdriver.common.by import By\n",
    "from selenium.webdriver.chrome.service import Service\n",
    "from webdriver_manager.chrome import ChromeDriverManager\n",
    "\n",
    "# 🔧 Function to extract course price\n",
    "def get_expertrons_course_price(url):\n",
    "    options = webdriver.ChromeOptions()\n",
    "    options.add_argument(\"--headless\")  # Run silently\n",
    "    driver = webdriver.Chrome(service=Service(ChromeDriverManager().install()), options=options)\n",
    "    \n",
    "    try:\n",
    "        driver.get(url)\n",
    "        time.sleep(5)  # Allow JS to load\n",
    "\n",
    "        # Locate the price span\n",
    "        price_elem = driver.find_element(By.CLASS_NAME, \"course-price\")\n",
    "        course_price = price_elem.text.strip()\n",
    "        return course_price if course_price else \"❌ Price not found\"\n",
    "\n",
    "    except Exception as e:\n",
    "        return f\"❌ Error\"\n",
    "    finally:\n",
    "        driver.quit()\n",
    "\n",
    "# 🔁 Load Excel with course links\n",
    "input_file = \"C:\\\\Users\\\\taslim.siddiqui\\\\Downloads\\\\Experton_input.xlsx\"  # 🔁 Change path as needed\n",
    "df = pd.read_excel(input_file)\n",
    "\n",
    "# 📦 Store prices\n",
    "results = []\n",
    "\n",
    "for link in df['Course link']:\n",
    "    print(f\"Checking: {link}\")\n",
    "    price = get_expertrons_course_price(link)\n",
    "    results.append({'Course_link': link, 'Course Price': price})\n",
    "\n",
    "# 💾 Save to Excel\n",
    "output_df = pd.DataFrame(results)\n",
    "output_file = \"C:\\\\Users\\\\taslim.siddiqui\\\\Downloads\\\\expertrons_prices_output.xlsx\"  # 🔁 Change as needed\n",
    "output_df.to_excel(output_file, index=False)\n",
    "\n",
    "print(\"✅ All done! Saved to:\", output_file)\n"
   ]
  }
 ],
 "metadata": {
  "language_info": {
   "name": "python"
  }
 },
 "nbformat": 4,
 "nbformat_minor": 5
}
