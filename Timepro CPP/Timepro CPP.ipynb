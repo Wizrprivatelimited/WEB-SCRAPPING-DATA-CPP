{
 "cells": [
  {
   "cell_type": "markdown",
   "id": "399c9a18",
   "metadata": {},
   "source": [
    "Timepro CPP price Extract"
   ]
  },
  {
   "cell_type": "code",
   "execution_count": null,
   "id": "1910e9e2",
   "metadata": {},
   "outputs": [],
   "source": [
    "import pandas as pd\n",
    "import requests\n",
    "from bs4 import BeautifulSoup\n",
    "import re\n",
    "\n",
    "# Step 1: Load course links from Excel\n",
    "input_file = \"C:\\\\Users\\\\taslim.siddiqui\\\\Downloads\\\\Henry_Harvin _input file.xlsx\"\n",
    "df = pd.read_excel(input_file)\n",
    "\n",
    "# Step 2: Prepare results list\n",
    "results = []\n",
    "\n",
    "# Step 3: Loop through links and scrape clean price\n",
    "for link in df['Course_link']:\n",
    "    try:\n",
    "        response = requests.get(link, timeout=10)\n",
    "        soup = BeautifulSoup(response.content, 'html.parser')\n",
    "\n",
    "        # Find the <h6> tag with data-group-value=\"course-fee\"\n",
    "        price_tag = soup.find(\"h6\", {\"data-group-value\": \"course-fee\"})\n",
    "\n",
    "        if price_tag:\n",
    "            full_text = price_tag.get_text(strip=True)\n",
    "            # Extract only numeric price part (e.g., ₹ 2,35,000 → 2,35,000)\n",
    "            match = re.search(r\"₹?\\s?[\\d,]+\", full_text)\n",
    "            price = match.group().replace(\"₹\", \"\").strip() if match else \"Price not found\"\n",
    "        else:\n",
    "            price = \"Price not found\"\n",
    "\n",
    "        results.append({'Course Link': link, 'Price': price})\n",
    "        print(f\"✅ {link} -> {price}\")\n",
    "\n",
    "    except Exception as e:\n",
    "        print(f\"❌ Error fetching {link}: {e}\")\n",
    "        results.append({'Course Link': link, 'Price': \"Error\"})\n",
    "\n",
    "# Step 4: Save cleaned results to Excel\n",
    "output_file = \"C:\\\\Users\\\\taslim.siddiqui\\\\Downloads\\\\course_prices_TIMME PRO.xlsx\"\n",
    "pd.DataFrame(results).to_excel(output_file, index=False)\n",
    "print(f\"📁 Saved to '{output_file}'\")\n"
   ]
  }
 ],
 "metadata": {
  "kernelspec": {
   "display_name": "Python 3",
   "language": "python",
   "name": "python3"
  },
  "language_info": {
   "name": "python",
   "version": "3.11.9"
  }
 },
 "nbformat": 4,
 "nbformat_minor": 5
}
