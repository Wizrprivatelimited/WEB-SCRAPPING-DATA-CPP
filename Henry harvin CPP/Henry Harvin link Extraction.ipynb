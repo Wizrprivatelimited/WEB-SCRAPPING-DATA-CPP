{
 "cells": [
  {
   "cell_type": "markdown",
   "id": "ae6beb74",
   "metadata": {},
   "source": [
    "Henry Harvin Link Extraction"
   ]
  },
  {
   "cell_type": "code",
   "execution_count": null,
   "id": "80158827",
   "metadata": {},
   "outputs": [],
   "source": [
    "import pandas as pd\n",
    "from bs4 import BeautifulSoup\n",
    "import re\n",
    "from urllib.parse import urljoin\n",
    "\n",
    "def extract_courses(html_content, base_url):\n",
    "    \"\"\"Extract ALL course names and links from HTML\"\"\"\n",
    "    soup = BeautifulSoup(html_content, 'html.parser')\n",
    "    courses = []\n",
    "    \n",
    "    # Find ALL <a> tags with href (hyperlinks)\n",
    "    for link in soup.find_all('a', href=True):\n",
    "        href = link['href'].strip()\n",
    "        text = link.get_text(strip=True)\n",
    "        \n",
    "        # Skip if: Not a course link OR text too short\n",
    "        if (not re.search(r'course|training|certification|program', href, re.I) \n",
    "            or len(text) < 3 \n",
    "            or re.search(r'blog|category|testimonial|about|contact', href, re.I)):\n",
    "            continue\n",
    "        \n",
    "        courses.append({\n",
    "            \"Course Name\": re.sub(r'\\s+', ' ', text),  # Clean whitespace\n",
    "            \"Course Link\": urljoin(base_url, href)     # Make full URL\n",
    "        })\n",
    "    \n",
    "    # Remove duplicates (same link or same name)\n",
    "    df = pd.DataFrame(courses).drop_duplicates(subset=[\"Course Link\", \"Course Name\"])\n",
    "    return df.sort_values(\"Course Name\").reset_index(drop=True)\n",
    "\n",
    "def main():\n",
    "    # Load HTML file\n",
    "    with open(\"C:\\\\Users\\\\taslim.siddiqui\\\\Downloads\\\\1200+ Certification Courses with Gold Membership-Henry Harvin.html\", \"r\", encoding=\"utf-8\") as f:\n",
    "        html = f.read()\n",
    "    \n",
    "    # Extract courses\n",
    "    df = extract_courses(html, base_url=\"https://www.henryharvin.com\")\n",
    "    \n",
    "    # Save to Excel\n",
    "    output_path = r\"C:\\Users\\taslim.siddiqui\\Downloads\\HenryHarvin_Courses_Complete.xlsx\"\n",
    "    df.to_excel(output_path, index=False)\n",
    "    \n",
    "    print(f\"✅ Extracted {len(df)} courses!\")\n",
    "    print(f\"📂 Saved to: {output_path}\\n\")\n",
    "    print(\"Sample Courses:\")\n",
    "    print(df.head(10).to_string(index=False))\n",
    "\n",
    "if __name__ == \"__main__\":\n",
    "    main()"
   ]
  },
  {
   "cell_type": "code",
   "execution_count": null,
   "id": "6264b222",
   "metadata": {},
   "outputs": [],
   "source": []
  }
 ],
 "metadata": {
  "kernelspec": {
   "display_name": "Python 3",
   "language": "python",
   "name": "python3"
  },
  "language_info": {
   "name": "python",
   "version": "3.11.9"
  }
 },
 "nbformat": 4,
 "nbformat_minor": 5
}
