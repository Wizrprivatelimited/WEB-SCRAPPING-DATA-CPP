{
 "cells": [
  {
   "cell_type": "markdown",
   "id": "07cca239",
   "metadata": {},
   "source": [
    "Croma Campus Extrat price"
   ]
  },
  {
   "cell_type": "code",
   "execution_count": null,
   "id": "9d06b8f5",
   "metadata": {},
   "outputs": [],
   "source": [
    "import pandas as pd\n",
    "import requests\n",
    "from bs4 import BeautifulSoup\n",
    "import urllib3\n",
    "\n",
    "# Disable SSL warnings\n",
    "urllib3.disable_warnings(urllib3.exceptions.InsecureRequestWarning)\n",
    "\n",
    "def extract_original_price(url):\n",
    "    headers = {\n",
    "        'User-Agent': 'Mozilla/5.0'\n",
    "    }\n",
    "\n",
    "    try:\n",
    "        response = requests.get(url, headers=headers, verify=False, timeout=10)\n",
    "        soup = BeautifulSoup(response.text, 'html.parser')\n",
    "\n",
    "        original_price_tag = soup.find('span', class_='disc-amt')\n",
    "        if original_price_tag:\n",
    "            return original_price_tag.get_text(strip=True)\n",
    "        else:\n",
    "            return \"❌ Not Found\"\n",
    "    except Exception as e:\n",
    "        return f\"❌ Error: {e}\"\n",
    "\n",
    "# === Step 1: Load Excel with course URLs ===\n",
    "input_path = \"C:\\\\Users\\\\taslim.siddiqui\\\\Downloads\\\\Croma campus.xlsx\"   # Change this\n",
    "output_path = \"C:\\\\Users\\\\taslim.siddiqui\\\\Downloads\\\\Croma campusprice.xlsx\"  # Change this\n",
    "\n",
    "df = pd.read_excel(input_path)\n",
    "\n",
    "# === Step 2: Extract prices for each link ===\n",
    "df['Original Price'] = df['Course link'].apply(extract_original_price)\n",
    "\n",
    "# === Step 3: Save output ===\n",
    "df.to_excel(output_path, index=False)\n",
    "\n",
    "print(\"✅ Extraction completed and saved to:\", output_path)\n"
   ]
  }
 ],
 "metadata": {
  "language_info": {
   "name": "python"
  }
 },
 "nbformat": 4,
 "nbformat_minor": 5
}
