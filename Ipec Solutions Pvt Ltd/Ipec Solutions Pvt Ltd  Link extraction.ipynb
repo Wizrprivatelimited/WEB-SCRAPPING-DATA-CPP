{
 "cells": [
  {
   "cell_type": "markdown",
   "id": "8b0773e1",
   "metadata": {},
   "source": [
    "# Ipec Solutions Pvt Ltd  Link extraction\n"
   ]
  },
  {
   "cell_type": "code",
   "execution_count": null,
   "id": "9dee21c3",
   "metadata": {},
   "outputs": [],
   "source": [
    "\n",
    "import pandas as pd\n",
    "from bs4 import BeautifulSoup\n",
    "from urllib.parse import urljoin\n",
    "\n",
    "def extract_all_courses(html_content, base_url):\n",
    "    soup = BeautifulSoup(html_content, \"html.parser\")\n",
    "    courses = []\n",
    "\n",
    "    # Loop through every icon-box-description (course name)\n",
    "    for desc in soup.select(\".elementor-icon-box-description\"):\n",
    "        course_name = desc.get_text(separator=\" \", strip=True)\n",
    "        if not course_name or course_name.lower() in ['top courses', 'fast track learning programmes']:\n",
    "            continue\n",
    "\n",
    "        # Find the nearest \"Know More\" button within the same grandparent block\n",
    "        parent_section = desc.find_parent(class_=\"elementor-widget\")\n",
    "        if not parent_section:\n",
    "            continue\n",
    "\n",
    "        link_tag = parent_section.find_next(\"a\", class_=\"elementor-button\", href=True)\n",
    "        if link_tag:\n",
    "            course_link = urljoin(base_url, link_tag[\"href\"])\n",
    "            courses.append({\n",
    "                \"Course Name\": course_name,\n",
    "                \"Course Link\": course_link\n",
    "            })\n",
    "\n",
    "    # Remove duplicates\n",
    "    df = pd.DataFrame(courses)\n",
    "    df = df.drop_duplicates(subset=\"Course Link\").sort_values(\"Course Name\").reset_index(drop=True)\n",
    "    return df\n",
    "\n",
    "def main():\n",
    "    html_file = \"C:\\\\Users\\\\taslim.siddiqui\\\\Downloads\\\\Courses List – iPEC Solutions Private Limited.html\"\n",
    "    output_file = \"C:\\\\Users\\\\taslim.siddiqui\\\\Downloads\\\\iPEC_Solutions_Courses_Clean.xlsx\"\n",
    "\n",
    "    with open(html_file, \"r\", encoding=\"utf-8\") as f:\n",
    "        html = f.read()\n",
    "\n",
    "    base_url = \"https://ipecsolutions.com\"\n",
    "    df = extract_all_courses(html, base_url)\n",
    "\n",
    "    if df.empty:\n",
    "        print(\"⚠️ No course data found.\")\n",
    "    else:\n",
    "        df.to_excel(output_file, index=False)\n",
    "        print(f\"✅ Extracted {len(df)} courses.\")\n",
    "        print(f\"📂 Saved to: {output_file}\")\n",
    "        print(\"📊 Sample:\")\n",
    "        print(df.head(10).to_string(index=False))\n",
    "\n",
    "if __name__ == \"__main__\":\n",
    "    main()\n"
   ]
  }
 ],
 "metadata": {
  "kernelspec": {
   "display_name": "Python 3",
   "language": "python",
   "name": "python3"
  },
  "language_info": {
   "name": "python",
   "version": "3.11.9"
  }
 },
 "nbformat": 4,
 "nbformat_minor": 5
}
