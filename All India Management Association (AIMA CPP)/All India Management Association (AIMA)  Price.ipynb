{
 "cells": [
  {
   "cell_type": "markdown",
   "id": "68a8fa10",
   "metadata": {},
   "source": [
    "All India Management Association (AIMA) Extract Price"
   ]
  },
  {
   "cell_type": "code",
   "execution_count": null,
   "id": "3bc743fa",
   "metadata": {},
   "outputs": [],
   "source": [
    "import pandas as pd\n",
    "import requests\n",
    "from bs4 import BeautifulSoup\n",
    "import re\n",
    "\n",
    "# === Step 1: Define the fee extractor function ===\n",
    "def get_all_aima_fees(url):\n",
    "    headers = {\n",
    "        \"User-Agent\": \"Mozilla/5.0\"\n",
    "    }\n",
    "    try:\n",
    "        res = requests.get(url, headers=headers, timeout=10)\n",
    "        soup = BeautifulSoup(res.content, 'html.parser')\n",
    "\n",
    "        fee_results = []\n",
    "\n",
    "        # 1. Fees from <td><p> with Rs.\n",
    "        td_tags = soup.find_all('td', {'valign': 'top', 'width': '312'})\n",
    "        for td in td_tags:\n",
    "            p_tag = td.find('p')\n",
    "            if p_tag and 'Rs.' in p_tag.text:\n",
    "                fee_results.append(p_tag.text.strip())\n",
    "\n",
    "        # 2. <span> like \"Online- Live Classes-\" followed by <p> Rs.\n",
    "        spans = soup.find_all('span')\n",
    "        for span in spans:\n",
    "            if 'Live Classes' in span.text or 'Face to Face' in span.text:\n",
    "                next_p = span.find_next('p')\n",
    "                if next_p and 'Rs.' in next_p.text:\n",
    "                    label = span.text.strip()\n",
    "                    price = next_p.text.strip()\n",
    "                    fee_results.append(f\"{label} {price}\")\n",
    "\n",
    "        # 3. <strong> with 'Program fee'\n",
    "        strong_tags = soup.find_all('strong')\n",
    "        for tag in strong_tags:\n",
    "            if re.search(r'Program\\s+fee', tag.text, re.I):\n",
    "                fee_results.append(tag.text.strip())\n",
    "\n",
    "        return ' | '.join(fee_results) if fee_results else '❌ Fee Not Found'\n",
    "\n",
    "    except Exception as e:\n",
    "        return f\"❌ Error: {str(e)}\"\n",
    "\n",
    "# === Step 2: Load input Excel and process links ===\n",
    "input_path = r\"C:\\Users\\taslim.siddiqui\\Downloads\\All India Management Association (AIMA)_input.xlsx\"\n",
    "output_path = r\"C:\\Users\\taslim.siddiqui\\Downloads\\All India Management Association (AIMA)_price.xlsx\"\n",
    "\n",
    "# Load course links from Excel\n",
    "df = pd.read_excel(input_path)\n",
    "\n",
    "# Add output column\n",
    "df['Extracted Fee(s)'] = df['Course link'].apply(get_all_aima_fees)\n",
    "\n",
    "# Save to output Excel\n",
    "df.to_excel(output_path, index=False)\n",
    "\n",
    "print(\"✅ Price extraction completed and saved to output Excel.\")\n"
   ]
  },
  {
   "cell_type": "code",
   "execution_count": null,
   "id": "18833568",
   "metadata": {},
   "outputs": [],
   "source": []
  }
 ],
 "metadata": {
  "kernelspec": {
   "display_name": "Python 3",
   "language": "python",
   "name": "python3"
  },
  "language_info": {
   "name": "python",
   "version": "3.11.9"
  }
 },
 "nbformat": 4,
 "nbformat_minor": 5
}
