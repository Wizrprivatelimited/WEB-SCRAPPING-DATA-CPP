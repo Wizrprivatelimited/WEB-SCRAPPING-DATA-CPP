{
 "cells": [
  {
   "cell_type": "markdown",
   "id": "26cf4003",
   "metadata": {},
   "source": [
    "Indigo learn CPP price extract"
   ]
  },
  {
   "cell_type": "code",
   "execution_count": null,
   "id": "6ca96e23",
   "metadata": {},
   "outputs": [],
   "source": [
    "import pandas as pd\n",
    "from selenium import webdriver\n",
    "from selenium.webdriver.chrome.service import Service\n",
    "from selenium.webdriver.common.by import By\n",
    "from webdriver_manager.chrome import ChromeDriverManager\n",
    "import time\n",
    "\n",
    "# Load course links from Excel\n",
    "df = pd.read_excel(\"C:\\\\Users\\\\taslim.siddiqui\\\\Downloads\\\\indigo learn.xlsx\")  # Ensure file is in the same directory or provide full path\n",
    "\n",
    "# Setup Chrome driver (headless mode)\n",
    "options = webdriver.ChromeOptions()\n",
    "options.add_argument(\"--headless\")\n",
    "driver = webdriver.Chrome(service=Service(ChromeDriverManager().install()), options=options)\n",
    "\n",
    "# Function to extract original price\n",
    "def extract_original_price(url):\n",
    "    try:\n",
    "        driver.get(url)\n",
    "        time.sleep(5)  # wait for page to load\n",
    "\n",
    "        # Find all strike prices\n",
    "        prices = driver.find_elements(By.CLASS_NAME, \"tss-1d4sff5-strikePrice\")\n",
    "        if prices:\n",
    "            return prices[0].text.strip()\n",
    "        else:\n",
    "            return \"❌ Price not found\"\n",
    "    except Exception as e:\n",
    "        return f\"❌ Error: {str(e)}\"\n",
    "\n",
    "# Loop through links and get prices\n",
    "results = []\n",
    "for link in df['Course link']:\n",
    "    price = extract_original_price(link)\n",
    "    print(f\"{link} --> {price}\")\n",
    "    results.append({\"Course_link\": link, \"Original_Price\": price})\n",
    "\n",
    "# Save results to Excel\n",
    "output_df = pd.DataFrame(results)\n",
    "output_df.to_excel(\"C:\\\\Users\\\\taslim.siddiqui\\\\Downloads\\\\indigolearn_prices_output.xlsx\", index=False)\n",
    "\n",
    "driver.quit()\n"
   ]
  }
 ],
 "metadata": {
  "language_info": {
   "name": "python"
  }
 },
 "nbformat": 4,
 "nbformat_minor": 5
}
