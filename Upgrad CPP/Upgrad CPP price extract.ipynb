{
 "cells": [
  {
   "cell_type": "markdown",
   "id": "b4d5255b",
   "metadata": {},
   "source": [
    "# Upgrad CPP price extract"
   ]
  },
  {
   "cell_type": "code",
   "execution_count": null,
   "id": "65230ab2",
   "metadata": {},
   "outputs": [],
   "source": [
    "import pandas as pd\n",
    "import requests\n",
    "from bs4 import BeautifulSoup\n",
    "\n",
    "# Input file path\n",
    "input_file = \"C:\\\\Users\\\\taslim.siddiqui\\\\Downloads\\\\upgrad.xlsx\"\n",
    "df = pd.read_excel(input_file)\n",
    "\n",
    "# Make sure column exists\n",
    "if 'Course link' not in df.columns:\n",
    "    raise ValueError(\"Excel must contain a 'Course link' column.\")\n",
    "\n",
    "# Results list\n",
    "total_prices = []\n",
    "\n",
    "# Headers for the request\n",
    "headers = {\n",
    "    \"User-Agent\": \"Mozilla/5.0\"\n",
    "}\n",
    "\n",
    "# Process each URL\n",
    "for index, row in df.iterrows():\n",
    "    url = row['Course link']\n",
    "    print(f\"🔍 Scraping: {url}\")\n",
    "    \n",
    "    total_price = \"❌ Total not found\"\n",
    "    \n",
    "    try:\n",
    "        response = requests.get(url, headers=headers, timeout=15)\n",
    "        soup = BeautifulSoup(response.content, \"html.parser\")\n",
    "\n",
    "        # First attempt: <h3 class=\"ProgramPricingWithSpecialization_price__MSWen\">\n",
    "        h3_tag = soup.find(\"h3\", class_=\"ProgramPricingWithSpecialization_price__MSWen\")\n",
    "        if h3_tag:\n",
    "            total_price = h3_tag.get_text(strip=True).split(\" \")[0] + \" \" + h3_tag.get_text(strip=True).split(\" \")[1]\n",
    "        else:\n",
    "            # Second attempt: <span class=\"font-medium text-bodySmall text-greyscale-main ...\">\n",
    "            span_tag = soup.find(\"span\", class_=\"font-medium text-bodySmall text-greyscale-main ml-spacing4 md:-tracking-0.16 xs:-tracking-0.14\")\n",
    "            if span_tag:\n",
    "                total_price = span_tag.get_text(strip=True)\n",
    "    \n",
    "    except Exception as e:\n",
    "        total_price = f\"❌ Error: {str(e)}\"\n",
    "    \n",
    "    total_prices.append(total_price)\n",
    "    print(f\"✅ Total Price: {total_price}\")  # Print the output for each course\n",
    "\n",
    "# Add results to DataFrame\n",
    "df['Total_Price'] = total_prices\n",
    "\n",
    "# Save to Excel\n",
    "output_file = \"C:\\\\Users\\\\taslim.siddiqui\\\\Downloads\\\\upgrad_courses_with_prices.xlsx\"\n",
    "df.to_excel(output_file, index=False)\n",
    "print(f\"\\n✅ All done. Results saved to: {output_file}\")\n"
   ]
  }
 ],
 "metadata": {
  "language_info": {
   "name": "python"
  }
 },
 "nbformat": 4,
 "nbformat_minor": 5
}
